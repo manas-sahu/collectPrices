{
 "metadata": {
  "language_info": {
   "codemirror_mode": {
    "name": "ipython",
    "version": 3
   },
   "file_extension": ".py",
   "mimetype": "text/x-python",
   "name": "python",
   "nbconvert_exporter": "python",
   "pygments_lexer": "ipython3",
   "version": "3.8.2-final"
  },
  "orig_nbformat": 2,
  "kernelspec": {
   "name": "python_defaultSpec_1599235307457",
   "display_name": "Python 3.8.2 64-bit"
  }
 },
 "nbformat": 4,
 "nbformat_minor": 2,
 "cells": [
  {
   "cell_type": "code",
   "execution_count": 267,
   "metadata": {},
   "outputs": [],
   "source": [
    "import requests\n",
    "from bs4 import BeautifulSoup\n",
    "from datetime import datetime\n",
    "# http://www.networkinghowtos.com/howto/common-user-agent-list/\n",
    "HEADERS = ({'User-Agent':\n",
    "            'Mozilla/5.0 (Windows NT 6.1) AppleWebKit/537.36 (KHTML, like Gecko) Chrome/41.0.2228.0 Safari/537.36',\n",
    "            'Accept-Language': 'en-US, en;q=0.5'})"
   ]
  },
  {
   "cell_type": "code",
   "execution_count": 268,
   "metadata": {},
   "outputs": [
    {
     "output_type": "execute_result",
     "data": {
      "text/plain": "'2020-09-05 22h12m'"
     },
     "metadata": {},
     "execution_count": 268
    }
   ],
   "source": [
    "now = datetime.now().strftime('%Y-%m-%d %Hh%Mm')\n",
    "now"
   ]
  },
  {
   "cell_type": "code",
   "execution_count": 269,
   "metadata": {},
   "outputs": [
    {
     "output_type": "execute_result",
     "data": {
      "text/plain": "<Response [200]>"
     },
     "metadata": {},
     "execution_count": 269
    }
   ],
   "source": [
    "amazonPage = requests.get('https://www.amazon.in/Zebronics-Mechanical-Wired-Keyboard-Black/dp/B078NWJ6VM/ref=sr_1_3?dchild=1&keywords=zebronics+max+pro&qid=1599161805&sr=8-3', headers=HEADERS)\n",
    "amazonPage"
   ]
  },
  {
   "cell_type": "code",
   "execution_count": 270,
   "metadata": {},
   "outputs": [
    {
     "output_type": "execute_result",
     "data": {
      "text/plain": "<Response [200]>"
     },
     "metadata": {},
     "execution_count": 270
    }
   ],
   "source": [
    "flipkartPage = requests.get('https://www.primeabgb.com/online-price-reviews-india/asus-tuf-gaming-x570-plus-amd-x570-wi-fi-atx-gaming-motherboard/', headers=HEADERS)\n",
    "flipkartPage"
   ]
  },
  {
   "cell_type": "code",
   "execution_count": 271,
   "metadata": {},
   "outputs": [],
   "source": [
    "amazonSoup = BeautifulSoup(amazonPage.content, features=\"lxml\")\n",
    "flipkartSoup = BeautifulSoup(flipkartPage.content, features=\"lxml\")"
   ]
  },
  {
   "cell_type": "code",
   "execution_count": 272,
   "metadata": {},
   "outputs": [
    {
     "output_type": "error",
     "ename": "AttributeError",
     "evalue": "'NoneType' object has no attribute 'get_text'",
     "traceback": [
      "\u001b[1;31m---------------------------------------------------------------------------\u001b[0m",
      "\u001b[1;31mAttributeError\u001b[0m                            Traceback (most recent call last)",
      "\u001b[1;32m<ipython-input-272-90fd2c004b18>\u001b[0m in \u001b[0;36m<module>\u001b[1;34m\u001b[0m\n\u001b[1;32m----> 1\u001b[1;33m \u001b[0mamazonPrice\u001b[0m \u001b[1;33m=\u001b[0m \u001b[0mamazonSoup\u001b[0m\u001b[1;33m.\u001b[0m\u001b[0mfind\u001b[0m\u001b[1;33m(\u001b[0m\u001b[0mid\u001b[0m\u001b[1;33m=\u001b[0m\u001b[1;34m'priceblock_ourprice'\u001b[0m\u001b[1;33m)\u001b[0m\u001b[1;33m.\u001b[0m\u001b[0mget_text\u001b[0m\u001b[1;33m(\u001b[0m\u001b[1;33m)\u001b[0m\u001b[1;33m.\u001b[0m\u001b[0mreplace\u001b[0m\u001b[1;33m(\u001b[0m\u001b[1;34mu'\\xa0'\u001b[0m\u001b[1;33m,\u001b[0m \u001b[1;34mu''\u001b[0m\u001b[1;33m)\u001b[0m\u001b[1;33m.\u001b[0m\u001b[0mreplace\u001b[0m\u001b[1;33m(\u001b[0m\u001b[1;34m'₹'\u001b[0m\u001b[1;33m,\u001b[0m \u001b[1;34m''\u001b[0m\u001b[1;33m)\u001b[0m\u001b[1;33m\u001b[0m\u001b[1;33m\u001b[0m\u001b[0m\n\u001b[0m\u001b[0;32m      2\u001b[0m \u001b[0mamazonPrice\u001b[0m\u001b[1;33m\u001b[0m\u001b[1;33m\u001b[0m\u001b[0m\n",
      "\u001b[1;31mAttributeError\u001b[0m: 'NoneType' object has no attribute 'get_text'"
     ]
    }
   ],
   "source": [
    "amazonPrice = amazonSoup.find(id='priceblock_ourprice').get_text().replace(u'\\xa0', u'').replace('₹', '')\n",
    "amazonPrice"
   ]
  },
  {
   "cell_type": "code",
   "execution_count": 273,
   "metadata": {},
   "outputs": [
    {
     "output_type": "execute_result",
     "data": {
      "text/plain": "\"Currently unavailable.\\n\\n\\n\\n\\n\\n\\n\\n\\n\\n\\nWe don't know when or if this item will be back in stock.\""
     },
     "metadata": {},
     "execution_count": 273
    }
   ],
   "source": [
    "amazonAvailability = amazonSoup.find(id='availability').get_text().strip()\n",
    "amazonAvailability"
   ]
  },
  {
   "cell_type": "code",
   "execution_count": 280,
   "metadata": {},
   "outputs": [
    {
     "output_type": "execute_result",
     "data": {
      "text/plain": "[]"
     },
     "metadata": {},
     "execution_count": 280
    }
   ],
   "source": [
    "flipkartPrice = flipkartSoup.find_all('span', class_=\"woocommerce-Price-amount amount\")\n",
    "flipkartPrice"
   ]
  },
  {
   "cell_type": "code",
   "execution_count": 275,
   "metadata": {},
   "outputs": [
    {
     "output_type": "error",
     "ename": "AttributeError",
     "evalue": "'NoneType' object has no attribute 'get_text'",
     "traceback": [
      "\u001b[1;31m---------------------------------------------------------------------------\u001b[0m",
      "\u001b[1;31mAttributeError\u001b[0m                            Traceback (most recent call last)",
      "\u001b[1;32m<ipython-input-275-12f46de675b9>\u001b[0m in \u001b[0;36m<module>\u001b[1;34m\u001b[0m\n\u001b[1;32m----> 1\u001b[1;33m \u001b[0mprimeAbgbTittle\u001b[0m \u001b[1;33m=\u001b[0m \u001b[0mflipkartSoup\u001b[0m\u001b[1;33m.\u001b[0m\u001b[0mfind\u001b[0m\u001b[1;33m(\u001b[0m\u001b[1;34m'h1'\u001b[0m\u001b[1;33m,\u001b[0m \u001b[0mclass_\u001b[0m\u001b[1;33m=\u001b[0m\u001b[1;34m\"product_title entry-title\"\u001b[0m\u001b[1;33m)\u001b[0m\u001b[1;33m.\u001b[0m\u001b[0mget_text\u001b[0m\u001b[1;33m(\u001b[0m\u001b[1;33m)\u001b[0m\u001b[1;33m.\u001b[0m\u001b[0mstrip\u001b[0m\u001b[1;33m(\u001b[0m\u001b[1;33m)\u001b[0m\u001b[1;33m\u001b[0m\u001b[1;33m\u001b[0m\u001b[0m\n\u001b[0m\u001b[0;32m      2\u001b[0m \u001b[0mprimeAbgbTittle\u001b[0m\u001b[1;33m\u001b[0m\u001b[1;33m\u001b[0m\u001b[0m\n",
      "\u001b[1;31mAttributeError\u001b[0m: 'NoneType' object has no attribute 'get_text'"
     ]
    }
   ],
   "source": [
    "primeAbgbTittle = flipkartSoup.find('h1', class_=\"product_title entry-title\").get_text().strip()\n",
    "primeAbgbTittle"
   ]
  },
  {
   "cell_type": "code",
   "execution_count": 276,
   "metadata": {},
   "outputs": [],
   "source": [
    "#flipkartAvailability = flipkartSoup.find('div', class_=\"_9-sL7L\").get_text().strip()\n",
    "#flipkartAvailability"
   ]
  },
  {
   "cell_type": "code",
   "execution_count": 277,
   "metadata": {},
   "outputs": [
    {
     "output_type": "execute_result",
     "data": {
      "text/plain": "'Cooler Master MasterCase H500M'"
     },
     "metadata": {},
     "execution_count": 277
    }
   ],
   "source": [
    "flipkartPage = requests.get('https://mdcomputers.in/cooler-master-mastercase-h500m-mcm-h500m-ihnn-s00.html', headers=HEADERS)\n",
    "flipkartSoup = BeautifulSoup(flipkartPage.content, features=\"lxml\")\n",
    "flipkartTittle = flipkartSoup.find('div', class_=\"title-product\").get_text().strip()\n",
    "flipkartTittle"
   ]
  },
  {
   "cell_type": "code",
   "execution_count": 278,
   "metadata": {},
   "outputs": [
    {
     "output_type": "execute_result",
     "data": {
      "text/plain": "'19269'"
     },
     "metadata": {},
     "execution_count": 278
    }
   ],
   "source": [
    "flipkartPage = requests.get('https://mdcomputers.in/cooler-master-mastercase-h500m-mcm-h500m-ihnn-s00.html', headers=HEADERS)\n",
    "flipkartSoup = BeautifulSoup(flipkartPage.content, features=\"lxml\")\n",
    "flipkartTittle = flipkartSoup.find('span', class_=\"price-new\").get_text().replace(u'₹', u'').replace(u',', u'').strip()\n",
    "flipkartTittle"
   ]
  },
  {
   "cell_type": "code",
   "execution_count": 279,
   "metadata": {},
   "outputs": [
    {
     "output_type": "execute_result",
     "data": {
      "text/plain": "'In Stock'"
     },
     "metadata": {},
     "execution_count": 279
    }
   ],
   "source": [
    "flipkartPage = requests.get('https://mdcomputers.in/cooler-master-mastercase-h500m-mcm-h500m-ihnn-s00.html', headers=HEADERS)\n",
    "flipkartSoup = BeautifulSoup(flipkartPage.content, features=\"lxml\")\n",
    "flipkartTittle = flipkartSoup.find('div', class_=\"stock\").get_text().replace(u'Availability:  ', u'').strip()\n",
    "flipkartTittle"
   ]
  },
  {
   "cell_type": "code",
   "execution_count": 281,
   "metadata": {},
   "outputs": [
    {
     "output_type": "error",
     "ename": "SyntaxError",
     "evalue": "invalid syntax (<ipython-input-281-d49824414d69>, line 1)",
     "traceback": [
      "\u001b[1;36m  File \u001b[1;32m\"<ipython-input-281-d49824414d69>\"\u001b[1;36m, line \u001b[1;32m1\u001b[0m\n\u001b[1;33m    page = requests.get(https://www.primeabgb.com/online-price-reviews-india/cooler-master-mastercase-h500m-mid-tower-case-mcm-h500m-ihnn-s00/, headers=HEADERS)\u001b[0m\n\u001b[1;37m                             ^\u001b[0m\n\u001b[1;31mSyntaxError\u001b[0m\u001b[1;31m:\u001b[0m invalid syntax\n"
     ]
    }
   ],
   "source": [
    "    page = requests.get('https://www.primeabgb.com/online-price-reviews-india/cooler-master-mastercase-h500m-mid-tower-case-mcm-h500m-ihnn-s00/', headers=HEADERS)\n",
    "    page"
   ]
  },
  {
   "cell_type": "code",
   "execution_count": null,
   "metadata": {},
   "outputs": [],
   "source": []
  }
 ]
}