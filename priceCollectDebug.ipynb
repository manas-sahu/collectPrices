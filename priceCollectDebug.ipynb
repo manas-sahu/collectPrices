{
 "metadata": {
  "language_info": {
   "codemirror_mode": {
    "name": "ipython",
    "version": 3
   },
   "file_extension": ".py",
   "mimetype": "text/x-python",
   "name": "python",
   "nbconvert_exporter": "python",
   "pygments_lexer": "ipython3",
   "version": "3.8.2-final"
  },
  "orig_nbformat": 2,
  "kernelspec": {
   "name": "python_defaultSpec_1599235307457",
   "display_name": "Python 3.8.2 64-bit"
  }
 },
 "nbformat": 4,
 "nbformat_minor": 2,
 "cells": [
  {
   "cell_type": "code",
   "execution_count": 247,
   "metadata": {},
   "outputs": [],
   "source": [
    "import requests\n",
    "from bs4 import BeautifulSoup\n",
    "from datetime import datetime\n",
    "# http://www.networkinghowtos.com/howto/common-user-agent-list/\n",
    "HEADERS = ({'User-Agent':\n",
    "            'Mozilla/5.0 (Windows NT 6.1) AppleWebKit/537.36 (KHTML, like Gecko) Chrome/41.0.2228.0 Safari/537.36',\n",
    "            'Accept-Language': 'en-US, en;q=0.5'})"
   ]
  },
  {
   "cell_type": "code",
   "execution_count": 248,
   "metadata": {},
   "outputs": [
    {
     "output_type": "execute_result",
     "data": {
      "text/plain": "'2020-09-05 18h43m'"
     },
     "metadata": {},
     "execution_count": 248
    }
   ],
   "source": [
    "now = datetime.now().strftime('%Y-%m-%d %Hh%Mm')\n",
    "now"
   ]
  },
  {
   "cell_type": "code",
   "execution_count": 249,
   "metadata": {},
   "outputs": [
    {
     "output_type": "execute_result",
     "data": {
      "text/plain": "<Response [200]>"
     },
     "metadata": {},
     "execution_count": 249
    }
   ],
   "source": [
    "amazonPage = requests.get('https://www.amazon.in/Zebronics-Mechanical-Wired-Keyboard-Black/dp/B078NWJ6VM/ref=sr_1_3?dchild=1&keywords=zebronics+max+pro&qid=1599161805&sr=8-3', headers=HEADERS)\n",
    "amazonPage"
   ]
  },
  {
   "cell_type": "code",
   "execution_count": 250,
   "metadata": {},
   "outputs": [
    {
     "output_type": "execute_result",
     "data": {
      "text/plain": "<Response [200]>"
     },
     "metadata": {},
     "execution_count": 250
    }
   ],
   "source": [
    "flipkartPage = requests.get('https://www.primeabgb.com/online-price-reviews-india/asus-tuf-gaming-x570-plus-amd-x570-wi-fi-atx-gaming-motherboard/', headers=HEADERS)\n",
    "flipkartPage"
   ]
  },
  {
   "cell_type": "code",
   "execution_count": 251,
   "metadata": {},
   "outputs": [],
   "source": [
    "amazonSoup = BeautifulSoup(amazonPage.content, features=\"lxml\")\n",
    "flipkartSoup = BeautifulSoup(flipkartPage.content, features=\"lxml\")"
   ]
  },
  {
   "cell_type": "code",
   "execution_count": 252,
   "metadata": {},
   "outputs": [
    {
     "output_type": "error",
     "ename": "AttributeError",
     "evalue": "'NoneType' object has no attribute 'get_text'",
     "traceback": [
      "\u001b[1;31m---------------------------------------------------------------------------\u001b[0m",
      "\u001b[1;31mAttributeError\u001b[0m                            Traceback (most recent call last)",
      "\u001b[1;32m<ipython-input-252-90fd2c004b18>\u001b[0m in \u001b[0;36m<module>\u001b[1;34m\u001b[0m\n\u001b[1;32m----> 1\u001b[1;33m \u001b[0mamazonPrice\u001b[0m \u001b[1;33m=\u001b[0m \u001b[0mamazonSoup\u001b[0m\u001b[1;33m.\u001b[0m\u001b[0mfind\u001b[0m\u001b[1;33m(\u001b[0m\u001b[0mid\u001b[0m\u001b[1;33m=\u001b[0m\u001b[1;34m'priceblock_ourprice'\u001b[0m\u001b[1;33m)\u001b[0m\u001b[1;33m.\u001b[0m\u001b[0mget_text\u001b[0m\u001b[1;33m(\u001b[0m\u001b[1;33m)\u001b[0m\u001b[1;33m.\u001b[0m\u001b[0mreplace\u001b[0m\u001b[1;33m(\u001b[0m\u001b[1;34mu'\\xa0'\u001b[0m\u001b[1;33m,\u001b[0m \u001b[1;34mu''\u001b[0m\u001b[1;33m)\u001b[0m\u001b[1;33m.\u001b[0m\u001b[0mreplace\u001b[0m\u001b[1;33m(\u001b[0m\u001b[1;34m'₹'\u001b[0m\u001b[1;33m,\u001b[0m \u001b[1;34m''\u001b[0m\u001b[1;33m)\u001b[0m\u001b[1;33m\u001b[0m\u001b[1;33m\u001b[0m\u001b[0m\n\u001b[0m\u001b[0;32m      2\u001b[0m \u001b[0mamazonPrice\u001b[0m\u001b[1;33m\u001b[0m\u001b[1;33m\u001b[0m\u001b[0m\n",
      "\u001b[1;31mAttributeError\u001b[0m: 'NoneType' object has no attribute 'get_text'"
     ]
    }
   ],
   "source": [
    "amazonPrice = amazonSoup.find(id='priceblock_ourprice').get_text().replace(u'\\xa0', u'').replace('₹', '')\n",
    "amazonPrice"
   ]
  },
  {
   "cell_type": "code",
   "execution_count": 253,
   "metadata": {},
   "outputs": [
    {
     "output_type": "execute_result",
     "data": {
      "text/plain": "\"Currently unavailable.\\n\\n\\n\\n\\n\\n\\n\\n\\n\\n\\nWe don't know when or if this item will be back in stock.\""
     },
     "metadata": {},
     "execution_count": 253
    }
   ],
   "source": [
    "amazonAvailability = amazonSoup.find(id='availability').get_text().strip()\n",
    "amazonAvailability"
   ]
  },
  {
   "cell_type": "code",
   "execution_count": 254,
   "metadata": {},
   "outputs": [
    {
     "output_type": "execute_result",
     "data": {
      "text/plain": "'₹22,700'"
     },
     "metadata": {},
     "execution_count": 254
    }
   ],
   "source": [
    "flipkartPrice = flipkartSoup.find_all('span', class_=\"woocommerce-Price-amount amount\")[2].get_text()\n",
    "flipkartPrice"
   ]
  },
  {
   "cell_type": "code",
   "execution_count": 255,
   "metadata": {},
   "outputs": [
    {
     "output_type": "execute_result",
     "data": {
      "text/plain": "'ASUS TUF GAMING X570-PLUS AMD X570 (WI-FI) ATX Gaming Motherboard'"
     },
     "metadata": {},
     "execution_count": 255
    }
   ],
   "source": [
    "primeAbgbTittle = flipkartSoup.find('h1', class_=\"product_title entry-title\").get_text().strip()\n",
    "primeAbgbTittle"
   ]
  },
  {
   "cell_type": "code",
   "execution_count": 256,
   "metadata": {},
   "outputs": [],
   "source": [
    "#flipkartAvailability = flipkartSoup.find('div', class_=\"_9-sL7L\").get_text().strip()\n",
    "#flipkartAvailability"
   ]
  },
  {
   "cell_type": "code",
   "execution_count": 261,
   "metadata": {},
   "outputs": [
    {
     "output_type": "execute_result",
     "data": {
      "text/plain": "'Cooler Master MasterCase H500M'"
     },
     "metadata": {},
     "execution_count": 261
    }
   ],
   "source": [
    "flipkartPage = requests.get('https://mdcomputers.in/cooler-master-mastercase-h500m-mcm-h500m-ihnn-s00.html', headers=HEADERS)\n",
    "flipkartSoup = BeautifulSoup(flipkartPage.content, features=\"lxml\")\n",
    "flipkartTittle = flipkartSoup.find('div', class_=\"title-product\").get_text().strip()\n",
    "flipkartTittle"
   ]
  },
  {
   "cell_type": "code",
   "execution_count": 265,
   "metadata": {},
   "outputs": [
    {
     "output_type": "execute_result",
     "data": {
      "text/plain": "'19269'"
     },
     "metadata": {},
     "execution_count": 265
    }
   ],
   "source": [
    "flipkartPage = requests.get('https://mdcomputers.in/cooler-master-mastercase-h500m-mcm-h500m-ihnn-s00.html', headers=HEADERS)\n",
    "flipkartSoup = BeautifulSoup(flipkartPage.content, features=\"lxml\")\n",
    "flipkartTittle = flipkartSoup.find('span', class_=\"price-new\").get_text().replace(u'₹', u'').replace(u',', u'').strip()\n",
    "flipkartTittle"
   ]
  },
  {
   "cell_type": "code",
   "execution_count": 264,
   "metadata": {},
   "outputs": [
    {
     "output_type": "execute_result",
     "data": {
      "text/plain": "'Availability:  In Stock'"
     },
     "metadata": {},
     "execution_count": 264
    }
   ],
   "source": [
    "flipkartPage = requests.get('https://mdcomputers.in/cooler-master-mastercase-h500m-mcm-h500m-ihnn-s00.html', headers=HEADERS)\n",
    "flipkartSoup = BeautifulSoup(flipkartPage.content, features=\"lxml\")\n",
    "flipkartTittle = flipkartSoup.find('div', class_=\"stock\").get_text().replace(u'Availability:  ', u'').strip()\n",
    "flipkartTittle"
   ]
  },
  {
   "cell_type": "code",
   "execution_count": null,
   "metadata": {},
   "outputs": [],
   "source": []
  }
 ]
}